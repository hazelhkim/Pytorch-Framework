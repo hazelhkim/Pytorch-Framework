{
  "nbformat": 4,
  "nbformat_minor": 0,
  "metadata": {
    "colab": {
      "name": "WordNet.ipynb",
      "provenance": [],
      "authorship_tag": "ABX9TyN76U+Hy0H2KOfsI9BHduk4",
      "include_colab_link": true
    },
    "kernelspec": {
      "name": "python3",
      "display_name": "Python 3"
    }
  },
  "cells": [
    {
      "cell_type": "markdown",
      "metadata": {
        "id": "view-in-github",
        "colab_type": "text"
      },
      "source": [
        "<a href=\"https://colab.research.google.com/github/hazelhkim/Pytorch/blob/master/WordNet.ipynb\" target=\"_parent\"><img src=\"https://colab.research.google.com/assets/colab-badge.svg\" alt=\"Open In Colab\"/></a>"
      ]
    },
    {
      "cell_type": "markdown",
      "metadata": {
        "id": "tlJTdGHml1Hk",
        "colab_type": "text"
      },
      "source": [
        "# WordNet"
      ]
    },
    {
      "cell_type": "code",
      "metadata": {
        "id": "2bz3ZTRMly70",
        "colab_type": "code",
        "colab": {
          "base_uri": "https://localhost:8080/",
          "height": 71
        },
        "outputId": "c69886e2-1a9b-4533-ca96-d28f98fa286f"
      },
      "source": [
        "!pip install nltk==3.2.5"
      ],
      "execution_count": 1,
      "outputs": [
        {
          "output_type": "stream",
          "text": [
            "Requirement already satisfied: nltk==3.2.5 in /usr/local/lib/python3.6/dist-packages (3.2.5)\n",
            "Requirement already satisfied: six in /usr/local/lib/python3.6/dist-packages (from nltk==3.2.5) (1.12.0)\n"
          ],
          "name": "stdout"
        }
      ]
    },
    {
      "cell_type": "code",
      "metadata": {
        "id": "QvPXx7Qkl6Fh",
        "colab_type": "code",
        "colab": {
          "base_uri": "https://localhost:8080/",
          "height": 51
        },
        "outputId": "5d052b83-e3b7-410a-dff1-a46f9f25ad5c"
      },
      "source": [
        "import nltk\n",
        "nltk.download('wordnet')\n",
        "from nltk.corpus import wordnet as wn"
      ],
      "execution_count": 2,
      "outputs": [
        {
          "output_type": "stream",
          "text": [
            "[nltk_data] Downloading package wordnet to /root/nltk_data...\n",
            "[nltk_data]   Unzipping corpora/wordnet.zip.\n"
          ],
          "name": "stdout"
        }
      ]
    },
    {
      "cell_type": "code",
      "metadata": {
        "id": "tDcH54Hdl-08",
        "colab_type": "code",
        "colab": {
          "base_uri": "https://localhost:8080/",
          "height": 119
        },
        "outputId": "12aafbed-a1f4-45b8-8efe-ab00b9b37466"
      },
      "source": [
        "wn.synsets('people')"
      ],
      "execution_count": 3,
      "outputs": [
        {
          "output_type": "execute_result",
          "data": {
            "text/plain": [
              "[Synset('people.n.01'),\n",
              " Synset('citizenry.n.01'),\n",
              " Synset('people.n.03'),\n",
              " Synset('multitude.n.03'),\n",
              " Synset('people.v.01'),\n",
              " Synset('people.v.02')]"
            ]
          },
          "metadata": {
            "tags": []
          },
          "execution_count": 3
        }
      ]
    },
    {
      "cell_type": "code",
      "metadata": {
        "id": "KlO53SyKmDOu",
        "colab_type": "code",
        "colab": {
          "base_uri": "https://localhost:8080/",
          "height": 34
        },
        "outputId": "5184675d-a48e-43e0-d392-5b00199f41e3"
      },
      "source": [
        "wn.synsets('people')[0].hypernyms()"
      ],
      "execution_count": 5,
      "outputs": [
        {
          "output_type": "execute_result",
          "data": {
            "text/plain": [
              "[Synset('group.n.01')]"
            ]
          },
          "metadata": {
            "tags": []
          },
          "execution_count": 5
        }
      ]
    },
    {
      "cell_type": "code",
      "metadata": {
        "id": "VnKFnw2nmMhB",
        "colab_type": "code",
        "colab": {
          "base_uri": "https://localhost:8080/",
          "height": 153
        },
        "outputId": "e8301a1a-dc66-4258-fb07-725f755c5dee"
      },
      "source": [
        "def hypernyms(word):\n",
        "    current_node = wn.synsets(word)[0]\n",
        "    yield current_node\n",
        "    \n",
        "    while True:\n",
        "        try:\n",
        "            current_node = current_node.hypernyms()[0]\n",
        "            yield current_node\n",
        "        except IndexError:\n",
        "            break\n",
        "\n",
        "for h in hypernyms('policeman'):\n",
        "    print(h)"
      ],
      "execution_count": 10,
      "outputs": [
        {
          "output_type": "stream",
          "text": [
            "Synset('policeman.n.01')\n",
            "Synset('lawman.n.01')\n",
            "Synset('defender.n.01')\n",
            "Synset('preserver.n.03')\n",
            "Synset('person.n.01')\n",
            "Synset('causal_agent.n.01')\n",
            "Synset('physical_entity.n.01')\n",
            "Synset('entity.n.01')\n"
          ],
          "name": "stdout"
        }
      ]
    },
    {
      "cell_type": "code",
      "metadata": {
        "id": "a3bzpsQfmkhs",
        "colab_type": "code",
        "colab": {
          "base_uri": "https://localhost:8080/",
          "height": 136
        },
        "outputId": "426ec0c8-52ac-47d4-e4e8-f10f63bffeea"
      },
      "source": [
        "[h for h in hypernyms('firefighter')]"
      ],
      "execution_count": 11,
      "outputs": [
        {
          "output_type": "execute_result",
          "data": {
            "text/plain": [
              "[Synset('fireman.n.04'),\n",
              " Synset('defender.n.01'),\n",
              " Synset('preserver.n.03'),\n",
              " Synset('person.n.01'),\n",
              " Synset('causal_agent.n.01'),\n",
              " Synset('physical_entity.n.01'),\n",
              " Synset('entity.n.01')]"
            ]
          },
          "metadata": {
            "tags": []
          },
          "execution_count": 11
        }
      ]
    },
    {
      "cell_type": "code",
      "metadata": {
        "id": "kjjLA7ckm312",
        "colab_type": "code",
        "colab": {
          "base_uri": "https://localhost:8080/",
          "height": 153
        },
        "outputId": "a2df8874-7667-407a-85ba-e758881693c0"
      },
      "source": [
        "[h for h in hypernyms('sheriff')]"
      ],
      "execution_count": 12,
      "outputs": [
        {
          "output_type": "execute_result",
          "data": {
            "text/plain": [
              "[Synset('sheriff.n.01'),\n",
              " Synset('lawman.n.01'),\n",
              " Synset('defender.n.01'),\n",
              " Synset('preserver.n.03'),\n",
              " Synset('person.n.01'),\n",
              " Synset('causal_agent.n.01'),\n",
              " Synset('physical_entity.n.01'),\n",
              " Synset('entity.n.01')]"
            ]
          },
          "metadata": {
            "tags": []
          },
          "execution_count": 12
        }
      ]
    },
    {
      "cell_type": "code",
      "metadata": {
        "id": "meHgW7dom5Ts",
        "colab_type": "code",
        "colab": {
          "base_uri": "https://localhost:8080/",
          "height": 153
        },
        "outputId": "9585e446-57a2-4929-9494-a87a2400d96a"
      },
      "source": [
        "[h for h in hypernyms('mailman')]"
      ],
      "execution_count": 13,
      "outputs": [
        {
          "output_type": "execute_result",
          "data": {
            "text/plain": [
              "[Synset('mailman.n.01'),\n",
              " Synset('deliveryman.n.01'),\n",
              " Synset('employee.n.01'),\n",
              " Synset('worker.n.01'),\n",
              " Synset('person.n.01'),\n",
              " Synset('causal_agent.n.01'),\n",
              " Synset('physical_entity.n.01'),\n",
              " Synset('entity.n.01')]"
            ]
          },
          "metadata": {
            "tags": []
          },
          "execution_count": 13
        }
      ]
    },
    {
      "cell_type": "code",
      "metadata": {
        "id": "6lC5hTE9m8WW",
        "colab_type": "code",
        "colab": {
          "base_uri": "https://localhost:8080/",
          "height": 34
        },
        "outputId": "b333db07-ad99-4292-8550-dd79950d3b1e"
      },
      "source": [
        "def distance(word1, word2):\n",
        "    word1_hypernyms = [h for h in hypernyms(word1)]\n",
        "    \n",
        "    for i, word2_hypernym in enumerate(hypernyms(word2)):\n",
        "        try:\n",
        "            return i + word1_hypernyms.index(word2_hypernym)\n",
        "        except ValueError:\n",
        "            continue\n",
        "\n",
        "distance('sheriff', 'student')"
      ],
      "execution_count": 14,
      "outputs": [
        {
          "output_type": "execute_result",
          "data": {
            "text/plain": [
              "6"
            ]
          },
          "metadata": {
            "tags": []
          },
          "execution_count": 14
        }
      ]
    },
    {
      "cell_type": "code",
      "metadata": {
        "id": "rmViTi3mm-Dr",
        "colab_type": "code",
        "colab": {
          "base_uri": "https://localhost:8080/",
          "height": 51
        },
        "outputId": "6a8f6c13-e239-4df5-e10f-3220c9752842"
      },
      "source": [
        "import numpy as np\n",
        "\n",
        "def similarity(word1, word2):\n",
        "    return -np.log(distance(word1, word2))\n",
        "\n",
        "print(similarity('sheriff', 'student'))\n",
        "print(similarity('sheriff', 'policeman'))"
      ],
      "execution_count": 15,
      "outputs": [
        {
          "output_type": "stream",
          "text": [
            "-1.791759469228055\n",
            "-0.6931471805599453\n"
          ],
          "name": "stdout"
        }
      ]
    }
  ]
}