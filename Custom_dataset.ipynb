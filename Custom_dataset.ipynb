{
  "nbformat": 4,
  "nbformat_minor": 0,
  "metadata": {
    "colab": {
      "name": "Custom_dataset.ipynb",
      "provenance": [],
      "authorship_tag": "ABX9TyPHoPDcVSfR3NrHoI+fLHot",
      "include_colab_link": true
    },
    "kernelspec": {
      "name": "python3",
      "display_name": "Python 3"
    }
  },
  "cells": [
    {
      "cell_type": "markdown",
      "metadata": {
        "id": "view-in-github",
        "colab_type": "text"
      },
      "source": [
        "<a href=\"https://colab.research.google.com/github/hazelhkim/Pytorch/blob/master/Custom_dataset.ipynb\" target=\"_parent\"><img src=\"https://colab.research.google.com/assets/colab-badge.svg\" alt=\"Open In Colab\"/></a>"
      ]
    },
    {
      "cell_type": "markdown",
      "metadata": {
        "id": "0LjzJ0p4PfY6",
        "colab_type": "text"
      },
      "source": [
        "## Binary Classification"
      ]
    },
    {
      "cell_type": "markdown",
      "metadata": {
        "id": "eAmbRVNLPj0T",
        "colab_type": "text"
      },
      "source": [
        "Load Dataset from sklearn"
      ]
    },
    {
      "cell_type": "code",
      "metadata": {
        "id": "74P-25TBPTwZ",
        "colab_type": "code",
        "colab": {}
      },
      "source": [
        "import numpy as np\n",
        "import pandas as pd\n",
        "import seaborn as sns\n",
        "import matplotlib.pyplot as plt\n",
        "from sklearn.datasets import load_breast_cancer\n",
        "cancer = load_breast_cancer()"
      ],
      "execution_count": 10,
      "outputs": []
    },
    {
      "cell_type": "code",
      "metadata": {
        "id": "x4M0HEdPPwtP",
        "colab_type": "code",
        "colab": {
          "base_uri": "https://localhost:8080/",
          "height": 258
        },
        "outputId": "83f99b7d-beb3-4353-90c9-87ee3462d000"
      },
      "source": [
        "df = pd.DataFrame(cancer.data, columns=cancer.feature_names)\n",
        "df['class'] = cancer.target\n",
        "df.tail()"
      ],
      "execution_count": 11,
      "outputs": [
        {
          "output_type": "execute_result",
          "data": {
            "text/html": [
              "<div>\n",
              "<style scoped>\n",
              "    .dataframe tbody tr th:only-of-type {\n",
              "        vertical-align: middle;\n",
              "    }\n",
              "\n",
              "    .dataframe tbody tr th {\n",
              "        vertical-align: top;\n",
              "    }\n",
              "\n",
              "    .dataframe thead th {\n",
              "        text-align: right;\n",
              "    }\n",
              "</style>\n",
              "<table border=\"1\" class=\"dataframe\">\n",
              "  <thead>\n",
              "    <tr style=\"text-align: right;\">\n",
              "      <th></th>\n",
              "      <th>mean radius</th>\n",
              "      <th>mean texture</th>\n",
              "      <th>mean perimeter</th>\n",
              "      <th>mean area</th>\n",
              "      <th>mean smoothness</th>\n",
              "      <th>mean compactness</th>\n",
              "      <th>mean concavity</th>\n",
              "      <th>mean concave points</th>\n",
              "      <th>mean symmetry</th>\n",
              "      <th>mean fractal dimension</th>\n",
              "      <th>radius error</th>\n",
              "      <th>texture error</th>\n",
              "      <th>perimeter error</th>\n",
              "      <th>area error</th>\n",
              "      <th>smoothness error</th>\n",
              "      <th>compactness error</th>\n",
              "      <th>concavity error</th>\n",
              "      <th>concave points error</th>\n",
              "      <th>symmetry error</th>\n",
              "      <th>fractal dimension error</th>\n",
              "      <th>worst radius</th>\n",
              "      <th>worst texture</th>\n",
              "      <th>worst perimeter</th>\n",
              "      <th>worst area</th>\n",
              "      <th>worst smoothness</th>\n",
              "      <th>worst compactness</th>\n",
              "      <th>worst concavity</th>\n",
              "      <th>worst concave points</th>\n",
              "      <th>worst symmetry</th>\n",
              "      <th>worst fractal dimension</th>\n",
              "      <th>class</th>\n",
              "    </tr>\n",
              "  </thead>\n",
              "  <tbody>\n",
              "    <tr>\n",
              "      <th>564</th>\n",
              "      <td>21.56</td>\n",
              "      <td>22.39</td>\n",
              "      <td>142.00</td>\n",
              "      <td>1479.0</td>\n",
              "      <td>0.11100</td>\n",
              "      <td>0.11590</td>\n",
              "      <td>0.24390</td>\n",
              "      <td>0.13890</td>\n",
              "      <td>0.1726</td>\n",
              "      <td>0.05623</td>\n",
              "      <td>1.1760</td>\n",
              "      <td>1.256</td>\n",
              "      <td>7.673</td>\n",
              "      <td>158.70</td>\n",
              "      <td>0.010300</td>\n",
              "      <td>0.02891</td>\n",
              "      <td>0.05198</td>\n",
              "      <td>0.02454</td>\n",
              "      <td>0.01114</td>\n",
              "      <td>0.004239</td>\n",
              "      <td>25.450</td>\n",
              "      <td>26.40</td>\n",
              "      <td>166.10</td>\n",
              "      <td>2027.0</td>\n",
              "      <td>0.14100</td>\n",
              "      <td>0.21130</td>\n",
              "      <td>0.4107</td>\n",
              "      <td>0.2216</td>\n",
              "      <td>0.2060</td>\n",
              "      <td>0.07115</td>\n",
              "      <td>0</td>\n",
              "    </tr>\n",
              "    <tr>\n",
              "      <th>565</th>\n",
              "      <td>20.13</td>\n",
              "      <td>28.25</td>\n",
              "      <td>131.20</td>\n",
              "      <td>1261.0</td>\n",
              "      <td>0.09780</td>\n",
              "      <td>0.10340</td>\n",
              "      <td>0.14400</td>\n",
              "      <td>0.09791</td>\n",
              "      <td>0.1752</td>\n",
              "      <td>0.05533</td>\n",
              "      <td>0.7655</td>\n",
              "      <td>2.463</td>\n",
              "      <td>5.203</td>\n",
              "      <td>99.04</td>\n",
              "      <td>0.005769</td>\n",
              "      <td>0.02423</td>\n",
              "      <td>0.03950</td>\n",
              "      <td>0.01678</td>\n",
              "      <td>0.01898</td>\n",
              "      <td>0.002498</td>\n",
              "      <td>23.690</td>\n",
              "      <td>38.25</td>\n",
              "      <td>155.00</td>\n",
              "      <td>1731.0</td>\n",
              "      <td>0.11660</td>\n",
              "      <td>0.19220</td>\n",
              "      <td>0.3215</td>\n",
              "      <td>0.1628</td>\n",
              "      <td>0.2572</td>\n",
              "      <td>0.06637</td>\n",
              "      <td>0</td>\n",
              "    </tr>\n",
              "    <tr>\n",
              "      <th>566</th>\n",
              "      <td>16.60</td>\n",
              "      <td>28.08</td>\n",
              "      <td>108.30</td>\n",
              "      <td>858.1</td>\n",
              "      <td>0.08455</td>\n",
              "      <td>0.10230</td>\n",
              "      <td>0.09251</td>\n",
              "      <td>0.05302</td>\n",
              "      <td>0.1590</td>\n",
              "      <td>0.05648</td>\n",
              "      <td>0.4564</td>\n",
              "      <td>1.075</td>\n",
              "      <td>3.425</td>\n",
              "      <td>48.55</td>\n",
              "      <td>0.005903</td>\n",
              "      <td>0.03731</td>\n",
              "      <td>0.04730</td>\n",
              "      <td>0.01557</td>\n",
              "      <td>0.01318</td>\n",
              "      <td>0.003892</td>\n",
              "      <td>18.980</td>\n",
              "      <td>34.12</td>\n",
              "      <td>126.70</td>\n",
              "      <td>1124.0</td>\n",
              "      <td>0.11390</td>\n",
              "      <td>0.30940</td>\n",
              "      <td>0.3403</td>\n",
              "      <td>0.1418</td>\n",
              "      <td>0.2218</td>\n",
              "      <td>0.07820</td>\n",
              "      <td>0</td>\n",
              "    </tr>\n",
              "    <tr>\n",
              "      <th>567</th>\n",
              "      <td>20.60</td>\n",
              "      <td>29.33</td>\n",
              "      <td>140.10</td>\n",
              "      <td>1265.0</td>\n",
              "      <td>0.11780</td>\n",
              "      <td>0.27700</td>\n",
              "      <td>0.35140</td>\n",
              "      <td>0.15200</td>\n",
              "      <td>0.2397</td>\n",
              "      <td>0.07016</td>\n",
              "      <td>0.7260</td>\n",
              "      <td>1.595</td>\n",
              "      <td>5.772</td>\n",
              "      <td>86.22</td>\n",
              "      <td>0.006522</td>\n",
              "      <td>0.06158</td>\n",
              "      <td>0.07117</td>\n",
              "      <td>0.01664</td>\n",
              "      <td>0.02324</td>\n",
              "      <td>0.006185</td>\n",
              "      <td>25.740</td>\n",
              "      <td>39.42</td>\n",
              "      <td>184.60</td>\n",
              "      <td>1821.0</td>\n",
              "      <td>0.16500</td>\n",
              "      <td>0.86810</td>\n",
              "      <td>0.9387</td>\n",
              "      <td>0.2650</td>\n",
              "      <td>0.4087</td>\n",
              "      <td>0.12400</td>\n",
              "      <td>0</td>\n",
              "    </tr>\n",
              "    <tr>\n",
              "      <th>568</th>\n",
              "      <td>7.76</td>\n",
              "      <td>24.54</td>\n",
              "      <td>47.92</td>\n",
              "      <td>181.0</td>\n",
              "      <td>0.05263</td>\n",
              "      <td>0.04362</td>\n",
              "      <td>0.00000</td>\n",
              "      <td>0.00000</td>\n",
              "      <td>0.1587</td>\n",
              "      <td>0.05884</td>\n",
              "      <td>0.3857</td>\n",
              "      <td>1.428</td>\n",
              "      <td>2.548</td>\n",
              "      <td>19.15</td>\n",
              "      <td>0.007189</td>\n",
              "      <td>0.00466</td>\n",
              "      <td>0.00000</td>\n",
              "      <td>0.00000</td>\n",
              "      <td>0.02676</td>\n",
              "      <td>0.002783</td>\n",
              "      <td>9.456</td>\n",
              "      <td>30.37</td>\n",
              "      <td>59.16</td>\n",
              "      <td>268.6</td>\n",
              "      <td>0.08996</td>\n",
              "      <td>0.06444</td>\n",
              "      <td>0.0000</td>\n",
              "      <td>0.0000</td>\n",
              "      <td>0.2871</td>\n",
              "      <td>0.07039</td>\n",
              "      <td>1</td>\n",
              "    </tr>\n",
              "  </tbody>\n",
              "</table>\n",
              "</div>"
            ],
            "text/plain": [
              "     mean radius  mean texture  ...  worst fractal dimension  class\n",
              "564        21.56         22.39  ...                  0.07115      0\n",
              "565        20.13         28.25  ...                  0.06637      0\n",
              "566        16.60         28.08  ...                  0.07820      0\n",
              "567        20.60         29.33  ...                  0.12400      0\n",
              "568         7.76         24.54  ...                  0.07039      1\n",
              "\n",
              "[5 rows x 31 columns]"
            ]
          },
          "metadata": {
            "tags": []
          },
          "execution_count": 11
        }
      ]
    },
    {
      "cell_type": "code",
      "metadata": {
        "id": "WdK_SSl2P5wv",
        "colab_type": "code",
        "colab": {
          "base_uri": "https://localhost:8080/",
          "height": 204
        },
        "outputId": "7cf07477-50c6-495e-c15c-47dbead088c6"
      },
      "source": [
        "df.columns"
      ],
      "execution_count": 12,
      "outputs": [
        {
          "output_type": "execute_result",
          "data": {
            "text/plain": [
              "Index(['mean radius', 'mean texture', 'mean perimeter', 'mean area',\n",
              "       'mean smoothness', 'mean compactness', 'mean concavity',\n",
              "       'mean concave points', 'mean symmetry', 'mean fractal dimension',\n",
              "       'radius error', 'texture error', 'perimeter error', 'area error',\n",
              "       'smoothness error', 'compactness error', 'concavity error',\n",
              "       'concave points error', 'symmetry error', 'fractal dimension error',\n",
              "       'worst radius', 'worst texture', 'worst perimeter', 'worst area',\n",
              "       'worst smoothness', 'worst compactness', 'worst concavity',\n",
              "       'worst concave points', 'worst symmetry', 'worst fractal dimension',\n",
              "       'class'],\n",
              "      dtype='object')"
            ]
          },
          "metadata": {
            "tags": []
          },
          "execution_count": 12
        }
      ]
    },
    {
      "cell_type": "markdown",
      "metadata": {
        "id": "H8oTNJWKQEPT",
        "colab_type": "text"
      },
      "source": [
        "Convert to PyTorch Tensor"
      ]
    },
    {
      "cell_type": "code",
      "metadata": {
        "id": "7OPv_NUpQIQo",
        "colab_type": "code",
        "colab": {
          "base_uri": "https://localhost:8080/",
          "height": 34
        },
        "outputId": "42e9391f-4d7e-4193-ca94-f97f9bc92c3c"
      },
      "source": [
        "import torch\n",
        "import torch.nn as nn\n",
        "import torch.nn.functional as F\n",
        "import torch.optim as optim\n",
        "\n",
        "data = torch.from_numpy(df.values).float()\n",
        "data.shape"
      ],
      "execution_count": 13,
      "outputs": [
        {
          "output_type": "execute_result",
          "data": {
            "text/plain": [
              "torch.Size([569, 31])"
            ]
          },
          "metadata": {
            "tags": []
          },
          "execution_count": 13
        }
      ]
    },
    {
      "cell_type": "code",
      "metadata": {
        "id": "RoLGdChGQVBm",
        "colab_type": "code",
        "colab": {
          "base_uri": "https://localhost:8080/",
          "height": 34
        },
        "outputId": "21b45f36-cc52-43f4-dbdb-550bfbef6f6d"
      },
      "source": [
        "x = data[:, :10]\n",
        "y = data[:, -1:]\n",
        "print(x.shape, y.shape)"
      ],
      "execution_count": 14,
      "outputs": [
        {
          "output_type": "stream",
          "text": [
            "torch.Size([569, 10]) torch.Size([569, 1])\n"
          ],
          "name": "stdout"
        }
      ]
    },
    {
      "cell_type": "code",
      "metadata": {
        "id": "iYuEpZBPQbNr",
        "colab_type": "code",
        "colab": {
          "base_uri": "https://localhost:8080/",
          "height": 34
        },
        "outputId": "81c93514-6bd6-4ede-d4e8-84562eca7d38"
      },
      "source": [
        "# Train/ Valid/ Test Ratio\n",
        "ratios = [.6, .2, .2]\n",
        "\n",
        "train_cnt = int(data.size(0)*ratios[0])\n",
        "valid_cnt = int(data.size(0)*ratios[1])\n",
        "test_cnt = data.size(0) - train_cnt - valid_cnt\n",
        "cnts = [train_cnt, valid_cnt, test_cnt]\n",
        "\n",
        "print(\"Train %d / Valid %d / Test %d samples.\" %(train_cnt, valid_cnt, test_cnt))"
      ],
      "execution_count": 15,
      "outputs": [
        {
          "output_type": "stream",
          "text": [
            "Train 341 / Valid 113 / Test 115 samples.\n"
          ],
          "name": "stdout"
        }
      ]
    },
    {
      "cell_type": "code",
      "metadata": {
        "id": "IW0SIXbXQ609",
        "colab_type": "code",
        "colab": {
          "base_uri": "https://localhost:8080/",
          "height": 68
        },
        "outputId": "9d2fb50f-d52a-4397-e195-5c25a55a5cf6"
      },
      "source": [
        "# You don't need to shuffle them, if you have fixed train/valid/test set.\n",
        "indices = torch.randperm(data.size(0))\n",
        "x = torch.index_select(x, dim=0, index=indices)\n",
        "y = torch.index_select(y, dim=0, index=indices)\n",
        "\n",
        "x = x.split(cnts, dim=0)\n",
        "y = y.split(cnts, dim=0)\n",
        "\n",
        "for x_i, y_i in zip(x, y):\n",
        "  print(x_i.size(), y_i.size())"
      ],
      "execution_count": 16,
      "outputs": [
        {
          "output_type": "stream",
          "text": [
            "torch.Size([341, 10]) torch.Size([341, 1])\n",
            "torch.Size([113, 10]) torch.Size([113, 1])\n",
            "torch.Size([115, 10]) torch.Size([115, 1])\n"
          ],
          "name": "stdout"
        }
      ]
    },
    {
      "cell_type": "markdown",
      "metadata": {
        "id": "tr_lPRQqRgGZ",
        "colab_type": "text"
      },
      "source": [
        "Set Hyperparameters"
      ]
    },
    {
      "cell_type": "code",
      "metadata": {
        "id": "y-lulknKRIkA",
        "colab_type": "code",
        "colab": {}
      },
      "source": [
        "n_epochs = 10000\n",
        "batch_size = 128\n",
        "print_interval = 500\n",
        "early_stop = 100"
      ],
      "execution_count": 17,
      "outputs": []
    },
    {
      "cell_type": "markdown",
      "metadata": {
        "id": "GZD-2GjbRos5",
        "colab_type": "text"
      },
      "source": [
        "Get DataLoaders"
      ]
    },
    {
      "cell_type": "code",
      "metadata": {
        "id": "jda0-VQURnb_",
        "colab_type": "code",
        "colab": {}
      },
      "source": [
        "from torch.utils.data import Dataset, DataLoader\n",
        "\n",
        "class CustomDataset(Dataset):\n",
        "  def __init__(self, data, labels):\n",
        "    self.data = data\n",
        "    self.labels = labels\n",
        "\n",
        "    super().__init__()\n",
        "\n",
        "  def __len__(self):\n",
        "    return len(self.data)\n",
        "\n",
        "  def __getitem__(self, idx):\n",
        "    return self.data[idx], self.labels[idx]"
      ],
      "execution_count": 18,
      "outputs": []
    },
    {
      "cell_type": "code",
      "metadata": {
        "id": "fPmzrOlxSB0B",
        "colab_type": "code",
        "colab": {
          "base_uri": "https://localhost:8080/",
          "height": 34
        },
        "outputId": "cb0a106c-748e-4df8-a71c-bda51370949b"
      },
      "source": [
        "train_loader = DataLoader(\n",
        "    dataset = CustomDataset(x[0], y[0]),\n",
        "    batch_size = batch_size,\n",
        "    shuffle = True, # Allow shuffling only for training set.\n",
        ")\n",
        "\n",
        "valid_loader = DataLoader(\n",
        "    dataset = CustomDataset(x[1], y[1]),\n",
        "    batch_size = batch_size,\n",
        "    shuffle = False,\n",
        ")\n",
        "\n",
        "test_loader = DataLoader(\n",
        "    dataset = CustomDataset(x[2], y[2]),\n",
        "    batch_size = batch_size,\n",
        "    shuffle = False,\n",
        ")\n",
        "\n",
        "print(\"Train %d / Valid %d / Test %d samples.\" %(\n",
        "    len(train_loader.dataset),\n",
        "    len(valid_loader.dataset),\n",
        "    len(test_loader.dataset),\n",
        "))"
      ],
      "execution_count": 20,
      "outputs": [
        {
          "output_type": "stream",
          "text": [
            "Train 341 / Valid 113 / Test 115 samples.\n"
          ],
          "name": "stdout"
        }
      ]
    },
    {
      "cell_type": "markdown",
      "metadata": {
        "id": "9ZB87vVPS2NT",
        "colab_type": "text"
      },
      "source": [
        "# Build Model & Optimizer"
      ]
    },
    {
      "cell_type": "code",
      "metadata": {
        "id": "jX2AUJl_SpOY",
        "colab_type": "code",
        "colab": {
          "base_uri": "https://localhost:8080/",
          "height": 221
        },
        "outputId": "4d193ae3-6efe-42a2-a0dd-fbb9208c7a2e"
      },
      "source": [
        "model = nn.Sequential(\n",
        "    nn.Linear(x[0].size(-1), 6),\n",
        "    nn.LeakyReLU(),\n",
        "    nn.Linear(6,5),\n",
        "    nn.LeakyReLU(),\n",
        "    nn.Linear(5,4),\n",
        "    nn.LeakyReLU(),\n",
        "    nn.Linear(4,3),\n",
        "    nn.LeakyReLU(),\n",
        "    nn.Linear(3, y[0].size(-1)),\n",
        "    nn.Sigmoid(),\n",
        ")\n",
        "\n",
        "model"
      ],
      "execution_count": 21,
      "outputs": [
        {
          "output_type": "execute_result",
          "data": {
            "text/plain": [
              "Sequential(\n",
              "  (0): Linear(in_features=10, out_features=6, bias=True)\n",
              "  (1): LeakyReLU(negative_slope=0.01)\n",
              "  (2): Linear(in_features=6, out_features=5, bias=True)\n",
              "  (3): LeakyReLU(negative_slope=0.01)\n",
              "  (4): Linear(in_features=5, out_features=4, bias=True)\n",
              "  (5): LeakyReLU(negative_slope=0.01)\n",
              "  (6): Linear(in_features=4, out_features=3, bias=True)\n",
              "  (7): LeakyReLU(negative_slope=0.01)\n",
              "  (8): Linear(in_features=3, out_features=1, bias=True)\n",
              "  (9): Sigmoid()\n",
              ")"
            ]
          },
          "metadata": {
            "tags": []
          },
          "execution_count": 21
        }
      ]
    },
    {
      "cell_type": "code",
      "metadata": {
        "id": "J1sPT2ajTSRz",
        "colab_type": "code",
        "colab": {}
      },
      "source": [
        "optimizer = optim.Adam(model.parameters())"
      ],
      "execution_count": 22,
      "outputs": []
    },
    {
      "cell_type": "markdown",
      "metadata": {
        "id": "pKFjeYnhTVkD",
        "colab_type": "text"
      },
      "source": [
        "# Train"
      ]
    },
    {
      "cell_type": "code",
      "metadata": {
        "id": "_h9FuzeATYIZ",
        "colab_type": "code",
        "colab": {}
      },
      "source": [
        "from copy import deepcopy\n",
        "\n",
        "lowest_loss = np.inf\n",
        "best_model = None\n",
        "lowest_epoch = np.inf"
      ],
      "execution_count": 23,
      "outputs": []
    },
    {
      "cell_type": "code",
      "metadata": {
        "id": "6K3ieGxyTfoT",
        "colab_type": "code",
        "colab": {
          "base_uri": "https://localhost:8080/",
          "height": 136
        },
        "outputId": "a6af343a-6d5f-4851-e5e8-202b2870475e"
      },
      "source": [
        "train_history, valid_history = [], []\n",
        "\n",
        "for i in range(n_epochs):\n",
        "  model.train()\n",
        "  train_loss, valid_loss = 0, 0\n",
        "  y_hat = []\n",
        "\n",
        "  for x_i, y_i in train_loader:\n",
        "    y_hat_i = model(x_i)\n",
        "    loss = F.binary_cross_entropy(y_hat_i, y_i)\n",
        "    optimizer.zero_grad()\n",
        "    loss.backward()\n",
        "    optimizer.step()\n",
        "    train_loss += float(loss) # This is very important to prevent memory leak.\n",
        "\n",
        "  train_loss = train_loss / len(train_loader)\n",
        "\n",
        "  model.eval()\n",
        "  with torch.no_grad():\n",
        "    valid_loss = 0\n",
        "\n",
        "    for x_i, y_i in valid_loader:\n",
        "      y_hat_i = model(x_i)\n",
        "      loss = F.binary_cross_entropy(y_hat_i, y_i)\n",
        "      valid_loss += float(loss)\n",
        "      y_hat += [y_hat_i]\n",
        "\n",
        "  train_history += [train_loss]\n",
        "  valid_history += [valid_loss]\n",
        "\n",
        "  if (i+1) % print_interval == 0:\n",
        "    print('Epoch %d: train loss = %.4e  valid_loss = %.4e  lowest_loss=%.4e' %(\n",
        "        i + 1, \n",
        "        train_loss,\n",
        "        valid_loss,\n",
        "        lowest_loss,\n",
        "    ))\n",
        "    \n",
        "  if valid_loss <= lowest_loss:\n",
        "    lowest_loss = valid_loss\n",
        "    lowest_epoch = i\n",
        "\n",
        "    best_model = deepcopy(model.state_dict())\n",
        "  else:\n",
        "    if early_stop > 0 and lowest_epoch + early_stop < i + 1:\n",
        "      print(\"There is no improvement during last %d epochs.\" %early_stop)\n",
        "      break\n",
        "  \n",
        "print(\"The best validation loss from epoch %d: %.4e\" %(\n",
        "    lowest_epoch + 1, lowest_loss\n",
        "))\n",
        "\n",
        "model.load_state_dict(best_model)"
      ],
      "execution_count": 24,
      "outputs": [
        {
          "output_type": "stream",
          "text": [
            "Epoch 500: train loss = 3.1133e-01  valid_loss = 2.9596e-01  lowest_loss=2.8926e-01\n",
            "Epoch 1000: train loss = 2.7441e-01  valid_loss = 2.5634e-01  lowest_loss=2.5403e-01\n",
            "Epoch 1500: train loss = 2.2794e-01  valid_loss = 2.1525e-01  lowest_loss=2.1599e-01\n",
            "Epoch 2000: train loss = 1.6208e-01  valid_loss = 1.7785e-01  lowest_loss=1.7387e-01\n",
            "There is no improvement during last 100 epochs.\n",
            "The best validation loss from epoch 2397: 1.6785e-01\n"
          ],
          "name": "stdout"
        },
        {
          "output_type": "execute_result",
          "data": {
            "text/plain": [
              "<All keys matched successfully>"
            ]
          },
          "metadata": {
            "tags": []
          },
          "execution_count": 24
        }
      ]
    },
    {
      "cell_type": "markdown",
      "metadata": {
        "id": "fdox_9a-Vz7j",
        "colab_type": "text"
      },
      "source": [
        "## Loss History"
      ]
    },
    {
      "cell_type": "code",
      "metadata": {
        "id": "QBFcAXpBU4d7",
        "colab_type": "code",
        "colab": {
          "base_uri": "https://localhost:8080/",
          "height": 433
        },
        "outputId": "65e668e1-4465-4cfe-909c-f6b25283ac29"
      },
      "source": [
        "plot_from = 2\n",
        "\n",
        "plt.figure(figsize = (20, 10))\n",
        "plt.grid(True)\n",
        "plt.title(\"Train/Valid Loss History\")\n",
        "plt.plot(\n",
        "    range(plot_from, len(train_history)), train_history[plot_from:],\n",
        "    range(plot_from, len(valid_history)), valid_history[plot_from:],\n",
        ")\n",
        "plt.yscale('log')\n",
        "plt.show()"
      ],
      "execution_count": 25,
      "outputs": [
        {
          "output_type": "display_data",
          "data": {
            "image/png": "[encoded data removed]",
            "text/plain": [
              "<Figure size 1440x720 with 1 Axes>"
            ]
          },
          "metadata": {
            "tags": [],
            "needs_background": "light"
          }
        }
      ]
    },
    {
      "cell_type": "markdown",
      "metadata": {
        "id": "4VAVww98WOFa",
        "colab_type": "text"
      },
      "source": [
        "Let's see the result!"
      ]
    },
    {
      "cell_type": "code",
      "metadata": {
        "id": "hgfhaZ5rU4cs",
        "colab_type": "code",
        "colab": {
          "base_uri": "https://localhost:8080/",
          "height": 34
        },
        "outputId": "74ca38c7-3a91-4934-c1c2-c14a2a5bb9fc"
      },
      "source": [
        "test_loss = 0\n",
        "y_hat = []\n",
        "\n",
        "model.eval()\n",
        "with torch.no_grad():\n",
        "  for x_i, y_i in test_loader:\n",
        "    y_hat_i = model(x_i)\n",
        "    loss = F.binary_cross_entropy(y_hat_i, y_i)\n",
        "    test_loss += loss # Gradient is already detached.\n",
        "    y_hat += [y_hat_i]\n",
        "\n",
        "test_loss = test_loss / len(test_loader)\n",
        "y_hat = torch.cat(y_hat, dim=0)\n",
        "\n",
        "print(\"Test loss: %.4e\" % test_loss)"
      ],
      "execution_count": 27,
      "outputs": [
        {
          "output_type": "stream",
          "text": [
            "Test loss: 1.2768e-01\n"
          ],
          "name": "stdout"
        }
      ]
    },
    {
      "cell_type": "code",
      "metadata": {
        "id": "Jv-u3teMWyZZ",
        "colab_type": "code",
        "colab": {
          "base_uri": "https://localhost:8080/",
          "height": 34
        },
        "outputId": "313fe581-0099-40dc-a429-9271076f22e6"
      },
      "source": [
        "correct_cnt = (y[2] == (y_hat > .5)).sum()\n",
        "total_cnt = float(y[2].size(0))\n",
        "\n",
        "print('Test Accuracy: %.4f' %(correct_cnt/total_cnt))"
      ],
      "execution_count": 28,
      "outputs": [
        {
          "output_type": "stream",
          "text": [
            "Test Accuracy: 0.9565\n"
          ],
          "name": "stdout"
        }
      ]
    }
  ]
}