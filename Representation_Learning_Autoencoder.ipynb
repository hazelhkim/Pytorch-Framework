{
  "nbformat": 4,
  "nbformat_minor": 0,
  "metadata": {
    "colab": {
      "name": "Representation_Learning Autoencoder.ipynb",
      "provenance": [],
      "authorship_tag": "ABX9TyOY9qPQTIRbx9oY7xGFIHxh",
      "include_colab_link": true
    },
    "kernelspec": {
      "name": "python3",
      "display_name": "Python 3"
    }
  },
  "cells": [
    {
      "cell_type": "markdown",
      "metadata": {
        "id": "view-in-github",
        "colab_type": "text"
      },
      "source": [
        "<a href=\"https://colab.research.google.com/github/hazelhkim/Pytorch/blob/master/Representation_Learning_Autoencoder.ipynb\" target=\"_parent\"><img src=\"https://colab.research.google.com/assets/colab-badge.svg\" alt=\"Open In Colab\"/></a>"
      ]
    },
    {
      "cell_type": "code",
      "metadata": {
        "id": "mNuvs2p1ReJU",
        "colab_type": "code",
        "colab": {}
      },
      "source": [
        "import numpy as np\n",
        "import matplotlib.pyplot as plt\n",
        "import torch\n",
        "import torch.nn as nn\n",
        "import torch.optim as optim"
      ],
      "execution_count": 112,
      "outputs": []
    },
    {
      "cell_type": "code",
      "metadata": {
        "id": "_Ip6BB0LSbkM",
        "colab_type": "code",
        "colab": {}
      },
      "source": [
        "#from utils import load_mnist\n",
        "#from trainer import Trainer"
      ],
      "execution_count": 113,
      "outputs": []
    },
    {
      "cell_type": "code",
      "metadata": {
        "id": "D2RVrVjMSfHS",
        "colab_type": "code",
        "colab": {
          "base_uri": "https://localhost:8080/",
          "height": 34
        },
        "outputId": "82391266-77f5-433b-f82b-46b117116dbd"
      },
      "source": [
        "from argparse import Namespace \n",
        "\n",
        "config = {\n",
        "    'train_ratio' : .8,\n",
        "    'batch_size' : 256,\n",
        "    'n_epochs' : 50,\n",
        "    'verbose' : 1,\n",
        "    'btl_size' : 2\n",
        "} \n",
        "\n",
        "config = Namespace(**config)\n",
        "print(config)"
      ],
      "execution_count": 114,
      "outputs": [
        {
          "output_type": "stream",
          "text": [
            "Namespace(batch_size=256, btl_size=2, n_epochs=50, train_ratio=0.8, verbose=1)\n"
          ],
          "name": "stdout"
        }
      ]
    },
    {
      "cell_type": "markdown",
      "metadata": {
        "id": "sB-_IKoabZWt",
        "colab_type": "text"
      },
      "source": [
        "# Model\n"
      ]
    },
    {
      "cell_type": "code",
      "metadata": {
        "id": "7-03dtnXbale",
        "colab_type": "code",
        "colab": {}
      },
      "source": [
        "import torch.nn as nn\n",
        "\n",
        "class Autoencoder(nn.Module):\n",
        "  def __init__(self, btl_size=2):\n",
        "    self.btl_size = btl_size\n",
        "\n",
        "    super().__init__()\n",
        "\n",
        "    self.encoder = nn.Sequential(\n",
        "        nn.Linear(28*28, 500),\n",
        "        nn.ReLU(),\n",
        "        nn.BatchNorm1d(500),\n",
        "        nn.Linear(500, 200),\n",
        "        nn.ReLU(),\n",
        "        nn.BatchNorm1d(200),\n",
        "        nn.Linear(200, 100),\n",
        "        nn.ReLU(),\n",
        "        nn.BatchNorm1d(100),\n",
        "        nn.Linear(100,50),\n",
        "        nn.ReLU(),\n",
        "        nn.BatchNorm1d(50),\n",
        "        nn.Linear(50, 20),\n",
        "        nn.ReLU(),\n",
        "        nn.BatchNorm1d(20),\n",
        "        nn.Linear(20, 10),\n",
        "        nn.ReLU(),\n",
        "        nn.BatchNorm1d(10),\n",
        "        nn.Linear(10, btl_size),\n",
        "    )\n",
        "\n",
        "    self.decoder = nn.Sequential(\n",
        "        nn.Linear(btl_size, 10),\n",
        "        nn.ReLU(),\n",
        "        nn.BatchNorm1d(10),\n",
        "        nn.Linear(10, 20),\n",
        "        nn.ReLU(),\n",
        "        nn.BatchNorm1d(20),\n",
        "        nn.Linear(20, 50),\n",
        "        nn.ReLU(),\n",
        "        nn.BatchNorm1d(50),\n",
        "        nn.Linear(50, 100),\n",
        "        nn.ReLU(),\n",
        "        nn.BatchNorm1d(100),\n",
        "        nn.Linear(100, 200),\n",
        "        nn.ReLU(),\n",
        "        nn.BatchNorm1d(200),\n",
        "        nn.Linear(200, 500),\n",
        "        nn.ReLU(),\n",
        "        nn.BatchNorm1d(500),\n",
        "        nn.Linear(500, 28*28),\n",
        "    )\n",
        "\n",
        "  def forward(self, x):\n",
        "    z = self.encoder(x)\n",
        "    y = self.decoder(z)\n",
        "    \n",
        "    return y"
      ],
      "execution_count": 93,
      "outputs": []
    },
    {
      "cell_type": "markdown",
      "metadata": {
        "id": "PsoC2HpMRBy-",
        "colab_type": "text"
      },
      "source": [
        "# 2. DataLoader"
      ]
    },
    {
      "cell_type": "code",
      "metadata": {
        "id": "zjFZikg5e6bg",
        "colab_type": "code",
        "colab": {}
      },
      "source": [
        "def load_mnist(is_train = True, flatten = True):\n",
        "  from torchvision import datasets, transforms\n",
        "  dataset = datasets.MNIST(\n",
        "      root = '../data', train= is_train, download = True, \n",
        "      transform = transforms.Compose([\n",
        "        transforms.ToTensor(),                                 \n",
        "      ])\n",
        "  )\n",
        "  # filter out x and y\n",
        "  x = dataset.data.float()/255.\n",
        "  y = dataset.targets\n",
        "\n",
        "  # flatten x data\n",
        "  if flatten:\n",
        "    x = x.view(x.size(0), -1)\n",
        "\n",
        "  return x, y"
      ],
      "execution_count": 115,
      "outputs": []
    },
    {
      "cell_type": "code",
      "metadata": {
        "id": "R_HOKixgeYbJ",
        "colab_type": "code",
        "colab": {}
      },
      "source": [
        "def show_image(x):\n",
        "  if x.dim() == 1:\n",
        "    x = x.view(int(x.size(0)**.5), -1)\n",
        "\n",
        "    plt.imshow(x, cmap='gray')\n",
        "    plt.show()"
      ],
      "execution_count": 116,
      "outputs": []
    },
    {
      "cell_type": "code",
      "metadata": {
        "id": "q8eQoGeLT6It",
        "colab_type": "code",
        "colab": {
          "base_uri": "https://localhost:8080/",
          "height": 68
        },
        "outputId": "b6d2e047-2708-40a2-f2cd-18d902ba8337"
      },
      "source": [
        "train_x, train_y = load_mnist(flatten=True)\n",
        "test_x, test_y = load_mnist(is_train=False, flatten=True)\n",
        "\n",
        "train_cnt = int(train_x.size(0)*config.train_ratio)\n",
        "valid_cnt = train_x.size(0) - train_cnt\n",
        "\n",
        "\n",
        "# Shuffle dataset to split into train/valid set.\n",
        "indices = torch.randperm(train_x.size(0))\n",
        "train_x, valid_x = torch.index_select(\n",
        "    train_x,\n",
        "    dim = 0,\n",
        "    index = indices\n",
        ").split([train_cnt, valid_cnt], dim=0)\n",
        "train_y, valid_y = torch.index_select(\n",
        "    train_y,\n",
        "    dim = 0,\n",
        "    index = indices\n",
        ").split([train_cnt, valid_cnt], dim=0)\n",
        "\n",
        "print(\"Train:\", train_x.shape, train_y.shape)\n",
        "print(\"Valid:\", valid_x.shape, valid_y.shape)\n",
        "print(\"Test:\", test_x.shape, test_y.shape)\n"
      ],
      "execution_count": 117,
      "outputs": [
        {
          "output_type": "stream",
          "text": [
            "Train: torch.Size([48000, 784]) torch.Size([48000])\n",
            "Valid: torch.Size([12000, 784]) torch.Size([12000])\n",
            "Test: torch.Size([10000, 784]) torch.Size([10000])\n"
          ],
          "name": "stdout"
        }
      ]
    },
    {
      "cell_type": "code",
      "metadata": {
        "id": "Ac32LLJSi0vn",
        "colab_type": "code",
        "colab": {}
      },
      "source": [
        "def _train(model, optimizer, crit, x, y, config):\n",
        "  # Set the model as a training mode.\n",
        "  model.train()\n",
        "\n",
        "  # Shuffle before start.\n",
        "  indices = torch.randperm(x.size(0), device = x.device)\n",
        "  x = torch.index_select(x, dim=0, index = indices).split(config.batch_size, dim=0)\n",
        "  y = torch.index_select(y, dim=0, index = indices).split(config.batch_size, dim=0)\n",
        "\n",
        "  total_loss = 0\n",
        "\n",
        "  for i, (x_i, y_i) in enumerate(zip(x, y)):\n",
        "    y_i_hat = model(x_i)\n",
        "    loss_i = crit(y_i_hat, y_i.squeeze()) # y_i might have unnecessary extra space other than dim=0.\n",
        "\n",
        "    # Initialize the graidents of the model.\n",
        "    optimizer.zero_grad()\n",
        "    loss_i.backward()\n",
        "    optimizer.step()\n",
        "\n",
        "    if config.verbose >= 2:\n",
        "      print(\"Train Iteration(%d/%d): loss=%.4e\" %(i+1, len(x), float(loss_i)))\n",
        "\n",
        "    # Don't forget to detach to prevent memory leak.\n",
        "    total_loss += float(loss_i)\n",
        "\n",
        "  return total_loss/len(x)\n",
        "\n",
        "\n",
        "def _validate(model, optimizer, crit, x, y, config):\n",
        "  # Turn evaluation mode on.\n",
        "  model.eval()\n",
        "\n",
        "  # Turn on the no_grad mode to make more efficeint\n",
        "  with torch.no_grad():\n",
        "    # Shuffle before begin. \n",
        "    indices = torch.randperm(x.size(0), device=x.device)\n",
        "    x = torch.index_select(x, dim=0, index=indices).split(config.batch_size, dim=0)\n",
        "    y = torch.index_select(y, dim=0, index=indices).split(config.batch_size, dim=0)\n",
        "    \n",
        "    total_loss = 0\n",
        "\n",
        "    for i, (x_i, y_i) in enumerate(zip(x, y)):\n",
        "      y_hat_i = model(x_i)\n",
        "      loss_i = crit(y_hat_i, y_i.squeeze())\n",
        "\n",
        "      if config.verbose >= 2:\n",
        "        print(\"Valid Iteration (%d/%d): loss=%.4e\" %(i+1, len(x), float(loss_i)))\n",
        "\n",
        "      total_loss += float(loss_i)\n",
        "\n",
        "    return total_loss/len(x)\n",
        "\n",
        "\n",
        "def train(model, optimizer, crit, train_data, valid_data, config):\n",
        "  lowest_loss = np.inf\n",
        "  best_model = None\n",
        "\n",
        "  for epoch_index in range(config.n_epochs):\n",
        "    train_loss = _train(model, optimizer, crit, train_data[0], train_data[1], config)\n",
        "    valid_loss = _validate(model, optimizer, crit, valid_data[0], valid_data[1], config)\n",
        "\n",
        "    # You must use deep copy to take a snapshot of current best weights.\n",
        "    if valid_loss <= lowest_loss:\n",
        "      lowest_loss = valid_loss\n",
        "      best_model = deepcopy(model.state_dict())\n",
        "\n",
        "    print(\"Epoch(%d/%d): train_loss = %.4e  valid_loss = %.4e  lowest_loss = %.4e\" %(\n",
        "        epoch_index + 1, \n",
        "        config.n_epochs,\n",
        "        train_loss,\n",
        "        valid_loss,\n",
        "        lowest_loss,\n",
        "    ))\n",
        "\n",
        "    # Restore to best model.\n",
        "    model.load_state_dict(best_model)"
      ],
      "execution_count": 118,
      "outputs": []
    },
    {
      "cell_type": "code",
      "metadata": {
        "id": "bh-STxkbvoV0",
        "colab_type": "code",
        "colab": {
          "base_uri": "https://localhost:8080/",
          "height": 34
        },
        "outputId": "29411fa0-a3fb-4b58-d389-822d96a03ab0"
      },
      "source": [
        "print(len(train_x[0]))"
      ],
      "execution_count": 119,
      "outputs": [
        {
          "output_type": "stream",
          "text": [
            "784\n"
          ],
          "name": "stdout"
        }
      ]
    },
    {
      "cell_type": "code",
      "metadata": {
        "id": "eRhU4tiJhuNS",
        "colab_type": "code",
        "colab": {
          "base_uri": "https://localhost:8080/",
          "height": 867
        },
        "outputId": "b073996d-9285-481f-a203-a8ff8892b1bc"
      },
      "source": [
        "model = Autoencoder(btl_size = config.btl_size)\n",
        "optimizer = optim.Adam(model.parameters())\n",
        "crit = nn.MSELoss()\n",
        "\n",
        "train(model, optimizer, crit, (train_x, train_x), (valid_x, valid_x), config)"
      ],
      "execution_count": 120,
      "outputs": [
        {
          "output_type": "stream",
          "text": [
            "Epoch(1/50): train_loss = 7.4417e-02  valid_loss = 5.1099e-02  lowest_loss = 5.1099e-02\n",
            "Epoch(2/50): train_loss = 4.8612e-02  valid_loss = 4.5734e-02  lowest_loss = 4.5734e-02\n",
            "Epoch(3/50): train_loss = 4.5221e-02  valid_loss = 4.3872e-02  lowest_loss = 4.3872e-02\n",
            "Epoch(4/50): train_loss = 4.3897e-02  valid_loss = 4.2292e-02  lowest_loss = 4.2292e-02\n",
            "Epoch(5/50): train_loss = 4.2843e-02  valid_loss = 4.1535e-02  lowest_loss = 4.1535e-02\n",
            "Epoch(6/50): train_loss = 4.2165e-02  valid_loss = 4.0656e-02  lowest_loss = 4.0656e-02\n",
            "Epoch(7/50): train_loss = 4.1488e-02  valid_loss = 4.0317e-02  lowest_loss = 4.0317e-02\n",
            "Epoch(8/50): train_loss = 4.1334e-02  valid_loss = 4.0048e-02  lowest_loss = 4.0048e-02\n",
            "Epoch(9/50): train_loss = 4.0650e-02  valid_loss = 3.9980e-02  lowest_loss = 3.9980e-02\n",
            "Epoch(10/50): train_loss = 4.0482e-02  valid_loss = 4.0245e-02  lowest_loss = 3.9980e-02\n",
            "Epoch(11/50): train_loss = 4.0676e-02  valid_loss = 3.9302e-02  lowest_loss = 3.9302e-02\n",
            "Epoch(12/50): train_loss = 4.0061e-02  valid_loss = 3.9172e-02  lowest_loss = 3.9172e-02\n",
            "Epoch(13/50): train_loss = 3.9872e-02  valid_loss = 3.8711e-02  lowest_loss = 3.8711e-02\n",
            "Epoch(14/50): train_loss = 3.9513e-02  valid_loss = 3.9031e-02  lowest_loss = 3.8711e-02\n",
            "Epoch(15/50): train_loss = 3.9870e-02  valid_loss = 3.8610e-02  lowest_loss = 3.8610e-02\n",
            "Epoch(16/50): train_loss = 3.9506e-02  valid_loss = 3.8577e-02  lowest_loss = 3.8577e-02\n",
            "Epoch(17/50): train_loss = 3.9398e-02  valid_loss = 3.9538e-02  lowest_loss = 3.8577e-02\n",
            "Epoch(18/50): train_loss = 3.9349e-02  valid_loss = 3.8586e-02  lowest_loss = 3.8577e-02\n",
            "Epoch(19/50): train_loss = 3.9670e-02  valid_loss = 3.8825e-02  lowest_loss = 3.8577e-02\n",
            "Epoch(20/50): train_loss = 3.9473e-02  valid_loss = 3.8310e-02  lowest_loss = 3.8310e-02\n",
            "Epoch(21/50): train_loss = 3.9092e-02  valid_loss = 3.8071e-02  lowest_loss = 3.8071e-02\n",
            "Epoch(22/50): train_loss = 3.9141e-02  valid_loss = 3.8436e-02  lowest_loss = 3.8071e-02\n",
            "Epoch(23/50): train_loss = 3.8762e-02  valid_loss = 3.8183e-02  lowest_loss = 3.8071e-02\n",
            "Epoch(24/50): train_loss = 3.9086e-02  valid_loss = 3.7997e-02  lowest_loss = 3.7997e-02\n",
            "Epoch(25/50): train_loss = 3.9226e-02  valid_loss = 3.7741e-02  lowest_loss = 3.7741e-02\n",
            "Epoch(26/50): train_loss = 3.8862e-02  valid_loss = 3.8223e-02  lowest_loss = 3.7741e-02\n",
            "Epoch(27/50): train_loss = 3.8804e-02  valid_loss = 3.8165e-02  lowest_loss = 3.7741e-02\n",
            "Epoch(28/50): train_loss = 3.8917e-02  valid_loss = 3.8261e-02  lowest_loss = 3.7741e-02\n",
            "Epoch(29/50): train_loss = 3.8833e-02  valid_loss = 3.8158e-02  lowest_loss = 3.7741e-02\n",
            "Epoch(30/50): train_loss = 3.9383e-02  valid_loss = 3.8231e-02  lowest_loss = 3.7741e-02\n",
            "Epoch(31/50): train_loss = 3.9093e-02  valid_loss = 3.8230e-02  lowest_loss = 3.7741e-02\n",
            "Epoch(32/50): train_loss = 3.9456e-02  valid_loss = 3.8272e-02  lowest_loss = 3.7741e-02\n",
            "Epoch(33/50): train_loss = 3.8840e-02  valid_loss = 3.7770e-02  lowest_loss = 3.7741e-02\n",
            "Epoch(34/50): train_loss = 3.9089e-02  valid_loss = 3.8372e-02  lowest_loss = 3.7741e-02\n",
            "Epoch(35/50): train_loss = 3.9046e-02  valid_loss = 3.8554e-02  lowest_loss = 3.7741e-02\n",
            "Epoch(36/50): train_loss = 3.9603e-02  valid_loss = 3.9710e-02  lowest_loss = 3.7741e-02\n",
            "Epoch(37/50): train_loss = 3.9220e-02  valid_loss = 3.8157e-02  lowest_loss = 3.7741e-02\n",
            "Epoch(38/50): train_loss = 3.9790e-02  valid_loss = 3.8384e-02  lowest_loss = 3.7741e-02\n",
            "Epoch(39/50): train_loss = 3.9374e-02  valid_loss = 3.8528e-02  lowest_loss = 3.7741e-02\n",
            "Epoch(40/50): train_loss = 3.9185e-02  valid_loss = 3.7843e-02  lowest_loss = 3.7741e-02\n",
            "Epoch(41/50): train_loss = 3.9417e-02  valid_loss = 3.8434e-02  lowest_loss = 3.7741e-02\n",
            "Epoch(42/50): train_loss = 3.9303e-02  valid_loss = 3.8879e-02  lowest_loss = 3.7741e-02\n",
            "Epoch(43/50): train_loss = 3.9451e-02  valid_loss = 3.8025e-02  lowest_loss = 3.7741e-02\n",
            "Epoch(44/50): train_loss = 3.9114e-02  valid_loss = 3.7641e-02  lowest_loss = 3.7641e-02\n",
            "Epoch(45/50): train_loss = 3.8966e-02  valid_loss = 3.8906e-02  lowest_loss = 3.7641e-02\n",
            "Epoch(46/50): train_loss = 3.8944e-02  valid_loss = 3.8330e-02  lowest_loss = 3.7641e-02\n",
            "Epoch(47/50): train_loss = 3.8822e-02  valid_loss = 3.8049e-02  lowest_loss = 3.7641e-02\n",
            "Epoch(48/50): train_loss = 3.9526e-02  valid_loss = 3.8696e-02  lowest_loss = 3.7641e-02\n",
            "Epoch(49/50): train_loss = 3.9030e-02  valid_loss = 3.8009e-02  lowest_loss = 3.7641e-02\n",
            "Epoch(50/50): train_loss = 3.9105e-02  valid_loss = 3.7758e-02  lowest_loss = 3.7641e-02\n"
          ],
          "name": "stdout"
        }
      ]
    },
    {
      "cell_type": "markdown",
      "metadata": {
        "id": "Xf4O02ICaCBT",
        "colab_type": "text"
      },
      "source": [
        "# Test"
      ]
    },
    {
      "cell_type": "code",
      "metadata": {
        "id": "lAuaFWKgaEb3",
        "colab_type": "code",
        "colab": {
          "base_uri": "https://localhost:8080/",
          "height": 513
        },
        "outputId": "06c5a278-0cc1-4c9e-ce13-01430516cee1"
      },
      "source": [
        "with torch.no_grad():\n",
        "  import random\n",
        "  index = int(random.random() * test_x.size(0))\n",
        "  recon = model(test_x[index].view(1,-1)).squeeze()\n",
        "\n",
        "  show_image(test_x[index])\n",
        "  show_image(recon)"
      ],
      "execution_count": 121,
      "outputs": [
        {
          "output_type": "display_data",
          "data": {
            "image/png": "[encoded data removed]",
            "text/plain": [
              "<Figure size 432x288 with 1 Axes>"
            ]
          },
          "metadata": {
            "tags": [],
            "needs_background": "light"
          }
        },
        {
          "output_type": "display_data",
          "data": {
            "image/png": "[encoded data removed]",
            "text/plain": [
              "<Figure size 432x288 with 1 Axes>"
            ]
          },
          "metadata": {
            "tags": [],
            "needs_background": "light"
          }
        }
      ]
    },
    {
      "cell_type": "markdown",
      "metadata": {
        "id": "kKh9XDoMahDK",
        "colab_type": "text"
      },
      "source": [
        "# Latent Space"
      ]
    },
    {
      "cell_type": "code",
      "metadata": {
        "id": "EkFbuKbZaiZy",
        "colab_type": "code",
        "colab": {
          "base_uri": "https://localhost:8080/",
          "height": 453
        },
        "outputId": "01c559e5-9380-4091-e593-2c34ee79a74e"
      },
      "source": [
        "if config.btl_size == 2:\n",
        "  color_map = [\n",
        "      'brown', 'red', 'orange', 'yellow', 'green', \n",
        "      'blue', 'navy', 'purple', 'gray', 'black',\n",
        "  ]\n",
        "\n",
        "  plt.figure(figsize=(20,10))\n",
        "  with torch.no_grad():\n",
        "    latents = model.encoder(test_x[:1000])\n",
        "\n",
        "    for i in range(10):\n",
        "      target_latents = latents[test_y[:1000]==i]\n",
        "      target_y = test_y[:1000][test_y[:1000]==i]\n",
        "      plt.scatter(target_latents[:,0],\n",
        "                  target_latents[:,1],\n",
        "                  marker = 'o',\n",
        "                  color = color_map[i],\n",
        "                  label=i)\n",
        "    plt.legend()\n",
        "    plt.grid(axis='both')\n",
        "    plt.show()"
      ],
      "execution_count": 122,
      "outputs": [
        {
          "output_type": "display_data",
          "data": {
            "image/png": "[encoded data removed]",
            "text/plain": [
              "<Figure size 1440x720 with 1 Axes>"
            ]
          },
          "metadata": {
            "tags": [],
            "needs_background": "light"
          }
        }
      ]
    },
    {
      "cell_type": "code",
      "metadata": {
        "id": "z7Q9Wzxga3mp",
        "colab_type": "code",
        "colab": {
          "base_uri": "https://localhost:8080/",
          "height": 34
        },
        "outputId": "c96f2397-dd7f-412d-92c8-e83c7b562dbd"
      },
      "source": [
        "if config.btl_size == 2:\n",
        "    min_range, max_range = -2., 2.\n",
        "    n = 20\n",
        "    step = (max_range - min_range) / float(n)\n",
        "    \n",
        "    with torch.no_grad():\n",
        "        lines = []\n",
        "\n",
        "        for v1 in np.arange(min_range, max_range, step):\n",
        "            z = torch.stack([\n",
        "                torch.FloatTensor([v1] * n),\n",
        "                torch.FloatTensor([v2 for v2 in np.arange(min_range,\n",
        "                                                          max_range, step)]),\n",
        "            ], dim=-1)\n",
        "            \n",
        "            line = torch.clamp(model.decoder(z).view(n, 28, 28), 0, 1)\n",
        "            line = torch.cat([line[i] for i in range(n - 1, 0, -1)], dim=0)\n",
        "            lines += [line]\n",
        "            \n",
        "        lines = torch.cat(lines, dim=-1)\n",
        "        plt.figure(figsize=(20, 20))\n",
        "        show_image(lines)"
      ],
      "execution_count": 128,
      "outputs": [
        {
          "output_type": "display_data",
          "data": {
            "text/plain": [
              "<Figure size 1440x1440 with 0 Axes>"
            ]
          },
          "metadata": {
            "tags": []
          }
        }
      ]
    },
    {
      "cell_type": "code",
      "metadata": {
        "id": "LyYdwFaDb4nV",
        "colab_type": "code",
        "colab": {}
      },
      "source": [
        ""
      ],
      "execution_count": null,
      "outputs": []
    }
  ]
}