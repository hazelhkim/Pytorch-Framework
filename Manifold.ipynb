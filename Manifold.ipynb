{
  "nbformat": 4,
  "nbformat_minor": 0,
  "metadata": {
    "colab": {
      "name": "Manifold",
      "provenance": [],
      "authorship_tag": "ABX9TyPCGnl3Ad1b7qs1bvriNKkU",
      "include_colab_link": true
    },
    "kernelspec": {
      "name": "python3",
      "display_name": "Python 3"
    }
  },
  "cells": [
    {
      "cell_type": "markdown",
      "metadata": {
        "id": "view-in-github",
        "colab_type": "text"
      },
      "source": [
        "<a href=\"https://colab.research.google.com/github/hazelhkim/Pytorch/blob/master/Manifold.ipynb\" target=\"_parent\"><img src=\"https://colab.research.google.com/assets/colab-badge.svg\" alt=\"Open In Colab\"/></a>"
      ]
    },
    {
      "cell_type": "code",
      "metadata": {
        "id": "XH9_LQFd7Ui6",
        "colab_type": "code",
        "colab": {}
      },
      "source": [
        "import numpy as np\n",
        "import matplotlib.pyplot as plt\n",
        "import torch\n",
        "import torch.nn as nn\n",
        "import torch.optim as optim"
      ],
      "execution_count": 3,
      "outputs": []
    },
    {
      "cell_type": "code",
      "metadata": {
        "id": "HKHSGv9WNAHs",
        "colab_type": "code",
        "colab": {}
      },
      "source": [
        "# Load MNIST\n",
        "def load_mnist(is_train = True, flatten = True):\n",
        "  from torchvision import datasets, transforms\n",
        "  dataset = datasets.MNIST(\n",
        "      root = '../data', train = is_train, download=True,\n",
        "      transform = transforms.Compose([\n",
        "        transforms.ToTensor(),\n",
        "      ])\n",
        "  )\n",
        "  # filter out x and y\n",
        "  x = dataset.data.float()/255.\n",
        "  y = dataset.targets\n",
        "\n",
        "  # flatten x data\n",
        "  if flatten:\n",
        "    x = x.view(x.size(0), -1)\n",
        "\n",
        "  return x, y"
      ],
      "execution_count": 2,
      "outputs": []
    },
    {
      "cell_type": "code",
      "metadata": {
        "id": "B85up0EETGe5",
        "colab_type": "code",
        "colab": {}
      },
      "source": [
        "# Trainer\n",
        "from copy import deepcopy\n",
        "\n",
        "def _train(model, optimizer, crit, x, y, config):\n",
        "  # Set the model as a trianing mode.\n",
        "  model.train()\n",
        "\n",
        "  # Shuffle before start.\n",
        "  indices = torch.randperm(x.size(0), device = x.device)\n",
        "  x = torch.index_select(x, dim=0, index = indices).split(config.batch_size, dim=0)\n",
        "  y = torch.index_select(y, dim=0, index = indices).split(config.batch_size, dim=0)\n",
        "\n",
        "  total_loss = 0\n",
        "\n",
        "  for i, (x_i, y_i) in enumerate(zip(x, y)):\n",
        "    y_i_hat = model(x_i)\n",
        "    loss_i = crit(y_i_hat, y_i.squeeze()) # y_i might have unnecessary extra space other than dim=0.\n",
        "\n",
        "    # Initialize the gradients of the model.\n",
        "    optimizer.zero_grad()\n",
        "    loss_i.backward()\n",
        "    optimizer.step()\n",
        "\n",
        "    if config.verbose >= 2:\n",
        "      print(\"Train Iteration(%d/%d): loss=%.4e\" %(i+1, len(x), float(loss_i)))\n",
        "\n",
        "      # Don't forget to detach to prevent memory leak.\n",
        "      total_loss += float(loss_i)\n",
        "\n",
        "    return total_loss/len(x)\n",
        "\n",
        "\n",
        "def _validate(model, optimizer, crit, x, y, config):\n",
        "  # Turn evalutation mode on.\n",
        "  model.eval()\n",
        "\n",
        "  # Turn on the no_grad mode to make more efficient\n",
        "  with torch.no_grad():\n",
        "    # Shuffle befoer begin.\n",
        "    indices = torch.randperm(x.size(0), device = x.device)\n",
        "    x = torch.index_select(x, dim=0, index=indices).split(config.batch_size, dim=0)\n",
        "    y = torch.index_select(y, dim=0, index=indices).split(config.batch_size, dim=0)\n",
        "\n",
        "    total_loss = 0\n",
        "\n",
        "    for i, (x_i, y_i) in enumerate(zip(x, y)):\n",
        "      y_hat_i = model(x_i)\n",
        "      loss_i = crit(y_hat_i, y_i.squeeze())\n",
        "\n",
        "      if config.verbose >= 2:\n",
        "        print(\"Valid Iteration (%d/%d): loss = %.4e\" %(i+1, len(x), float(loss_i)))\n",
        "\n",
        "      total_loss += float(loss_i)\n",
        "      \n",
        "    return total_loss/len(x)\n",
        "\n",
        "def train(model, optimizer, crit, train_data, valid_data, config):\n",
        "  lowest_loss = np.inf\n",
        "  best_model = None\n",
        "\n",
        "  for epoch_index in range(config.n_epochs):\n",
        "    train_loss = _train(model, optimizer, crit, train_data[0], train_data[1], config)\n",
        "    valid_loss = _validate(model, optimizer, crit, valid_data[0], valid_data[1], config)\n",
        "\n",
        "    # You must use deep copy to take a snpashot of current best weights.\n",
        "    if valid_loss <= lowest_loss:\n",
        "      lowest_loss = valid_loss\n",
        "      best_model = deepcopy(model.state_dict())\n",
        "\n",
        "      print(\"Epoch(%d/%d): train_loss = %.4e valid_loss = %.4e lowest_loss = %.4e\" %(\n",
        "          epoch_index + 1,\n",
        "          config.n_epochs,\n",
        "          train_loss,\n",
        "          valid_loss,\n",
        "          lowest_loss,\n",
        "      ))\n",
        "\n",
        "      # Restore to best model.\n",
        "      model.load_state_dict(best_model)"
      ],
      "execution_count": 19,
      "outputs": []
    },
    {
      "cell_type": "code",
      "metadata": {
        "id": "f28Lw0gKaXt0",
        "colab_type": "code",
        "colab": {
          "base_uri": "https://localhost:8080/",
          "height": 34
        },
        "outputId": "04c497cd-8442-46bf-b45b-6ac25f720fd9"
      },
      "source": [
        "from argparse import Namespace\n",
        "\n",
        "config = {\n",
        "    'train_ratio': .8,\n",
        "    'batch_size' : 256, \n",
        "    'n_epochs': 50,\n",
        "    'verbose': 1,\n",
        "    'btl_size': 2\n",
        "}\n",
        "\n",
        "config = Namespace(**config)\n",
        "print(config)"
      ],
      "execution_count": 15,
      "outputs": [
        {
          "output_type": "stream",
          "text": [
            "Namespace(batch_size=256, btl_size=2, n_epochs=50, train_ratio=0.8, verbose=1)\n"
          ],
          "name": "stdout"
        }
      ]
    },
    {
      "cell_type": "code",
      "metadata": {
        "id": "R0dNazc6eWUB",
        "colab_type": "code",
        "colab": {
          "base_uri": "https://localhost:8080/",
          "height": 68
        },
        "outputId": "2033ee2c-a793-447a-9a2b-47170131c901"
      },
      "source": [
        "train_x, train_y = load_mnist(flatten=True)\n",
        "test_x, test_y = load_mnist(is_train=False, flatten=True)\n",
        "\n",
        "train_cnt = int(train_x.size(0)*config.train_ratio)\n",
        "valid_cnt = train_x.size(0) - train_cnt\n",
        "\n",
        "# Shuffle dataset to split into train/valid set.\n",
        "indices = torch.randperm(train_x.size(0))\n",
        "train_x, valid_x = torch.index_select(\n",
        "    train_x,\n",
        "    dim=0,\n",
        "    index=indices\n",
        ").split([train_cnt, valid_cnt], dim = 0)\n",
        "\n",
        "train_Y, valid_y = torch.index_select(\n",
        "    train_y,\n",
        "    dim=0,\n",
        "    index=indices,\n",
        ").split([train_cnt, valid_cnt], dim=0)\n",
        "\n",
        "print(\"Train:\", train_x.shape, train_y.shape)\n",
        "print(\"Valid:\", valid_x.shape, valid_y.shape)\n",
        "print(\"test:\", test_x.shape, test_y.shape)"
      ],
      "execution_count": 11,
      "outputs": [
        {
          "output_type": "stream",
          "text": [
            "Train: torch.Size([48000, 784]) torch.Size([60000])\n",
            "Valid: torch.Size([12000, 784]) torch.Size([12000])\n",
            "test: torch.Size([10000, 784]) torch.Size([10000])\n"
          ],
          "name": "stdout"
        }
      ]
    },
    {
      "cell_type": "code",
      "metadata": {
        "id": "8azFgk2vfaLx",
        "colab_type": "code",
        "colab": {}
      },
      "source": [
        "# Autoencoder\n",
        "\n",
        "class Autoencoder(nn.Module):\n",
        "    \n",
        "    def __init__(self, btl_size=2):\n",
        "        self.btl_size = btl_size\n",
        "        \n",
        "        super().__init__()\n",
        "        \n",
        "        self.encoder = nn.Sequential(\n",
        "            nn.Linear(28 * 28, 500),\n",
        "            nn.ReLU(),\n",
        "            nn.BatchNorm1d(500),\n",
        "            nn.Linear(500, 200),\n",
        "            nn.ReLU(),\n",
        "            nn.BatchNorm1d(200),\n",
        "            nn.Linear(200, 100),\n",
        "            nn.ReLU(),\n",
        "            nn.BatchNorm1d(100),\n",
        "            nn.Linear(100, 50),\n",
        "            nn.ReLU(),\n",
        "            nn.BatchNorm1d(50),\n",
        "            nn.Linear(50, 20),\n",
        "            nn.ReLU(),\n",
        "            nn.BatchNorm1d(20),\n",
        "            nn.Linear(20, 10),\n",
        "            nn.ReLU(),\n",
        "            nn.BatchNorm1d(10),\n",
        "            nn.Linear(10, btl_size),\n",
        "        )\n",
        "        self.decoder = nn.Sequential(\n",
        "            nn.Linear(btl_size, 10),\n",
        "            nn.ReLU(),\n",
        "            nn.BatchNorm1d(10),\n",
        "            nn.Linear(10, 20),\n",
        "            nn.ReLU(),\n",
        "            nn.BatchNorm1d(20),\n",
        "            nn.Linear(20, 50),\n",
        "            nn.ReLU(),\n",
        "            nn.BatchNorm1d(50),\n",
        "            nn.Linear(50, 100),\n",
        "            nn.ReLU(),\n",
        "            nn.BatchNorm1d(100),\n",
        "            nn.Linear(100, 200),\n",
        "            nn.ReLU(),\n",
        "            nn.BatchNorm1d(200),\n",
        "            nn.Linear(200, 500),\n",
        "            nn.ReLU(),\n",
        "            nn.BatchNorm1d(500),\n",
        "            nn.Linear(500, 28 * 28),\n",
        "        )\n",
        "        \n",
        "    def forward(self, x):\n",
        "        z = self.encoder(x)\n",
        "        y = self.decoder(z)\n",
        "        \n",
        "        return y\n"
      ],
      "execution_count": 12,
      "outputs": []
    },
    {
      "cell_type": "code",
      "metadata": {
        "id": "V3R2nK8Bfjej",
        "colab_type": "code",
        "colab": {
          "base_uri": "https://localhost:8080/",
          "height": 765
        },
        "outputId": "594db7f4-fcbf-49d9-b367-b0adccb9dc4b"
      },
      "source": [
        "model = Autoencoder(btl_size=config.btl_size)\n",
        "optimizer = optim.Adam(model.parameters())\n",
        "crit = nn.MSELoss()\n",
        "\n",
        "train(model, optimizer, crit, (train_x, train_x), (valid_x, valid_x), config)"
      ],
      "execution_count": 20,
      "outputs": [
        {
          "output_type": "stream",
          "text": [
            "Epoch(1/50): train_loss = 0.0000e+00 valid_loss = 1.1185e-01 lowest_loss = 1.1185e-01\n",
            "Epoch(2/50): train_loss = 0.0000e+00 valid_loss = 1.1142e-01 lowest_loss = 1.1142e-01\n",
            "Epoch(3/50): train_loss = 0.0000e+00 valid_loss = 1.1114e-01 lowest_loss = 1.1114e-01\n",
            "Epoch(4/50): train_loss = 0.0000e+00 valid_loss = 1.1109e-01 lowest_loss = 1.1109e-01\n",
            "Epoch(11/50): train_loss = 0.0000e+00 valid_loss = 1.1038e-01 lowest_loss = 1.1038e-01\n",
            "Epoch(12/50): train_loss = 0.0000e+00 valid_loss = 1.0935e-01 lowest_loss = 1.0935e-01\n",
            "Epoch(13/50): train_loss = 0.0000e+00 valid_loss = 1.0830e-01 lowest_loss = 1.0830e-01\n",
            "Epoch(14/50): train_loss = 0.0000e+00 valid_loss = 1.0756e-01 lowest_loss = 1.0756e-01\n",
            "Epoch(15/50): train_loss = 0.0000e+00 valid_loss = 1.0701e-01 lowest_loss = 1.0701e-01\n",
            "Epoch(16/50): train_loss = 0.0000e+00 valid_loss = 1.0677e-01 lowest_loss = 1.0677e-01\n",
            "Epoch(17/50): train_loss = 0.0000e+00 valid_loss = 1.0661e-01 lowest_loss = 1.0661e-01\n",
            "Epoch(18/50): train_loss = 0.0000e+00 valid_loss = 1.0637e-01 lowest_loss = 1.0637e-01\n",
            "Epoch(19/50): train_loss = 0.0000e+00 valid_loss = 1.0612e-01 lowest_loss = 1.0612e-01\n",
            "Epoch(20/50): train_loss = 0.0000e+00 valid_loss = 1.0586e-01 lowest_loss = 1.0586e-01\n",
            "Epoch(21/50): train_loss = 0.0000e+00 valid_loss = 1.0538e-01 lowest_loss = 1.0538e-01\n",
            "Epoch(22/50): train_loss = 0.0000e+00 valid_loss = 1.0479e-01 lowest_loss = 1.0479e-01\n",
            "Epoch(23/50): train_loss = 0.0000e+00 valid_loss = 1.0404e-01 lowest_loss = 1.0404e-01\n",
            "Epoch(24/50): train_loss = 0.0000e+00 valid_loss = 1.0308e-01 lowest_loss = 1.0308e-01\n",
            "Epoch(25/50): train_loss = 0.0000e+00 valid_loss = 1.0184e-01 lowest_loss = 1.0184e-01\n",
            "Epoch(26/50): train_loss = 0.0000e+00 valid_loss = 1.0059e-01 lowest_loss = 1.0059e-01\n",
            "Epoch(27/50): train_loss = 0.0000e+00 valid_loss = 9.9357e-02 lowest_loss = 9.9357e-02\n",
            "Epoch(28/50): train_loss = 0.0000e+00 valid_loss = 9.8073e-02 lowest_loss = 9.8073e-02\n",
            "Epoch(29/50): train_loss = 0.0000e+00 valid_loss = 9.6853e-02 lowest_loss = 9.6853e-02\n",
            "Epoch(30/50): train_loss = 0.0000e+00 valid_loss = 9.5460e-02 lowest_loss = 9.5460e-02\n",
            "Epoch(31/50): train_loss = 0.0000e+00 valid_loss = 9.3634e-02 lowest_loss = 9.3634e-02\n",
            "Epoch(32/50): train_loss = 0.0000e+00 valid_loss = 9.1993e-02 lowest_loss = 9.1993e-02\n",
            "Epoch(33/50): train_loss = 0.0000e+00 valid_loss = 9.0234e-02 lowest_loss = 9.0234e-02\n",
            "Epoch(34/50): train_loss = 0.0000e+00 valid_loss = 8.8378e-02 lowest_loss = 8.8378e-02\n",
            "Epoch(35/50): train_loss = 0.0000e+00 valid_loss = 8.6501e-02 lowest_loss = 8.6501e-02\n",
            "Epoch(36/50): train_loss = 0.0000e+00 valid_loss = 8.4522e-02 lowest_loss = 8.4522e-02\n",
            "Epoch(37/50): train_loss = 0.0000e+00 valid_loss = 8.2644e-02 lowest_loss = 8.2644e-02\n",
            "Epoch(38/50): train_loss = 0.0000e+00 valid_loss = 8.1335e-02 lowest_loss = 8.1335e-02\n",
            "Epoch(39/50): train_loss = 0.0000e+00 valid_loss = 8.0012e-02 lowest_loss = 8.0012e-02\n",
            "Epoch(40/50): train_loss = 0.0000e+00 valid_loss = 7.8613e-02 lowest_loss = 7.8613e-02\n",
            "Epoch(41/50): train_loss = 0.0000e+00 valid_loss = 7.6994e-02 lowest_loss = 7.6994e-02\n",
            "Epoch(42/50): train_loss = 0.0000e+00 valid_loss = 7.5633e-02 lowest_loss = 7.5633e-02\n",
            "Epoch(43/50): train_loss = 0.0000e+00 valid_loss = 7.4021e-02 lowest_loss = 7.4021e-02\n",
            "Epoch(44/50): train_loss = 0.0000e+00 valid_loss = 7.2375e-02 lowest_loss = 7.2375e-02\n",
            "Epoch(45/50): train_loss = 0.0000e+00 valid_loss = 7.0955e-02 lowest_loss = 7.0955e-02\n",
            "Epoch(46/50): train_loss = 0.0000e+00 valid_loss = 6.9708e-02 lowest_loss = 6.9708e-02\n",
            "Epoch(47/50): train_loss = 0.0000e+00 valid_loss = 6.8658e-02 lowest_loss = 6.8658e-02\n",
            "Epoch(48/50): train_loss = 0.0000e+00 valid_loss = 6.7660e-02 lowest_loss = 6.7660e-02\n",
            "Epoch(49/50): train_loss = 0.0000e+00 valid_loss = 6.6513e-02 lowest_loss = 6.6513e-02\n",
            "Epoch(50/50): train_loss = 0.0000e+00 valid_loss = 6.5311e-02 lowest_loss = 6.5311e-02\n"
          ],
          "name": "stdout"
        }
      ]
    },
    {
      "cell_type": "markdown",
      "metadata": {
        "id": "nKzIiTyzg_wM",
        "colab_type": "text"
      },
      "source": [
        "## Mean value in each space."
      ]
    },
    {
      "cell_type": "code",
      "metadata": {
        "id": "GX5rTdjQhNfR",
        "colab_type": "code",
        "colab": {}
      },
      "source": [
        "def show_image(x):\n",
        "    if x.dim() == 1:\n",
        "        x = x.view(int(x.size(0) ** .5), -1)\n",
        "    \n",
        "    plt.imshow(x, cmap='gray')\n",
        "    plt.show()"
      ],
      "execution_count": 22,
      "outputs": []
    },
    {
      "cell_type": "code",
      "metadata": {
        "id": "XLq-kITtfuQm",
        "colab_type": "code",
        "colab": {
          "base_uri": "https://localhost:8080/",
          "height": 1000
        },
        "outputId": "38b1e7ed-8ea7-4f2d-ea11-d8d7a59cbd2c"
      },
      "source": [
        "with torch.no_grad():\n",
        "    import random\n",
        "\n",
        "    index1 = int(random.random() * test_x.size(0))\n",
        "    index2 = int(random.random() * test_x.size(0))\n",
        "    \n",
        "    z1 = model.encoder(test_x[index1].view(1, -1))\n",
        "    z2 = model.encoder(test_x[index2].view(1, -1))\n",
        "\n",
        "    recon = model.decoder((z1 + z2) / 2).squeeze()\n",
        "\n",
        "    show_image(test_x[index1])\n",
        "    show_image(test_x[index2])\n",
        "    show_image((test_x[index1] + test_x[index2]) / 2)\n",
        "    show_image(recon)"
      ],
      "execution_count": 23,
      "outputs": [
        {
          "output_type": "display_data",
          "data": {
            "image/png": "[encoded data removed]",
            "text/plain": [
              "<Figure size 432x288 with 1 Axes>"
            ]
          },
          "metadata": {
            "tags": [],
            "needs_background": "light"
          }
        },
        {
          "output_type": "display_data",
          "data": {
            "image/png": "[encoded data removed]",
            "text/plain": [
              "<Figure size 432x288 with 1 Axes>"
            ]
          },
          "metadata": {
            "tags": [],
            "needs_background": "light"
          }
        },
        {
          "output_type": "display_data",
          "data": {
            "image/png": "[encoded data removed]",
            "text/plain": [
              "<Figure size 432x288 with 1 Axes>"
            ]
          },
          "metadata": {
            "tags": [],
            "needs_background": "light"
          }
        },
        {
          "output_type": "display_data",
          "data": {
            "image/png": "[encoded data removed]",
            "text/plain": [
              "<Figure size 432x288 with 1 Axes>"
            ]
          },
          "metadata": {
            "tags": [],
            "needs_background": "light"
          }
        }
      ]
    }
  ]
}